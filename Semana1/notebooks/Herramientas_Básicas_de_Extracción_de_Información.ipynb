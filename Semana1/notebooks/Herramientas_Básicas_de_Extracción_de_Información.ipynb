{
  "nbformat": 4,
  "nbformat_minor": 0,
  "metadata": {
    "colab": {
      "name": "Herramientas Básicas de Extracción de Información.ipynb",
      "provenance": [],
      "collapsed_sections": []
    },
    "kernelspec": {
      "name": "python3",
      "display_name": "Python 3"
    },
    "language_info": {
      "name": "python"
    }
  },
  "cells": [
    {
      "cell_type": "markdown",
      "source": [
        "# python-docx"
      ],
      "metadata": {
        "id": "scmzG5J76l42"
      }
    },
    {
      "cell_type": "code",
      "execution_count": null,
      "metadata": {
        "id": "uQOyG8Qu5h79"
      },
      "outputs": [],
      "source": [
        "!pip install python-docx pdfminer"
      ]
    },
    {
      "cell_type": "code",
      "source": [
        "import docx\n",
        "doc = docx.Document('Contrato.docx')"
      ],
      "metadata": {
        "id": "ACTdn2pO5oEV"
      },
      "execution_count": null,
      "outputs": []
    },
    {
      "cell_type": "code",
      "source": [
        "len(doc.paragraphs)"
      ],
      "metadata": {
        "id": "gyw6QlM35ywY"
      },
      "execution_count": null,
      "outputs": []
    },
    {
      "cell_type": "code",
      "source": [
        "doc.paragraphs[0].text"
      ],
      "metadata": {
        "id": "Yg4N9eBv50Ew"
      },
      "execution_count": null,
      "outputs": []
    },
    {
      "cell_type": "code",
      "source": [
        "doc.paragraphs[2].text"
      ],
      "metadata": {
        "id": "WVw4y9dG53d5"
      },
      "execution_count": null,
      "outputs": []
    },
    {
      "cell_type": "code",
      "source": [
        "text = ' '.join([p.text for p in doc.paragraphs])\n",
        "text"
      ],
      "metadata": {
        "id": "1IiM_X3B5-kM"
      },
      "execution_count": null,
      "outputs": []
    },
    {
      "cell_type": "markdown",
      "source": [
        "# pdfminer"
      ],
      "metadata": {
        "id": "o_fs7r8q6otR"
      }
    },
    {
      "cell_type": "code",
      "source": [
        "from io import StringIO\n",
        "\n",
        "from pdfminer.converter import TextConverter\n",
        "from pdfminer.layout import LAParams\n",
        "from pdfminer.pdfdocument import PDFDocument\n",
        "from pdfminer.pdfinterp import PDFResourceManager, PDFPageInterpreter\n",
        "from pdfminer.pdfpage import PDFPage\n",
        "from pdfminer.pdfparser import PDFParser\n",
        "\n",
        "output_string = StringIO()\n",
        "with open('Constitución.pdf', 'rb') as in_file:\n",
        "    parser = PDFParser(in_file)\n",
        "    doc = PDFDocument(parser)\n",
        "    rsrcmgr = PDFResourceManager()\n",
        "    device = TextConverter(rsrcmgr, output_string, laparams=LAParams())\n",
        "    interpreter = PDFPageInterpreter(rsrcmgr, device)\n",
        "    for page in PDFPage.create_pages(doc):\n",
        "        interpreter.process_page(page)\n",
        "\n",
        "text = output_string.getvalue()"
      ],
      "metadata": {
        "id": "tbp9qj_w6IQG"
      },
      "execution_count": null,
      "outputs": []
    },
    {
      "cell_type": "code",
      "source": [
        "print(text)"
      ],
      "metadata": {
        "id": "CGlHC7lF7X-e"
      },
      "execution_count": null,
      "outputs": []
    },
    {
      "cell_type": "code",
      "source": [
        "import pandas as pd\n",
        "\n",
        "df = pd.read_excel('ReporteProyectosLey.xlsx', skiprows=4)\n",
        "\n",
        "df.head()"
      ],
      "metadata": {
        "id": "Zk_8i-Mx7ar7"
      },
      "execution_count": null,
      "outputs": []
    },
    {
      "cell_type": "markdown",
      "source": [
        "# Ajustando el formato de de Fecha"
      ],
      "metadata": {
        "id": "AcsuIMFP7yx1"
      }
    },
    {
      "cell_type": "code",
      "source": [
        "from datetime import datetime\n",
        "\n",
        "df['Fecha de Presentación']=df['Fecha de Presentación'].apply(lambda x:datetime.strptime(x, '%Y-%m-%d'))\n",
        "df.head()"
      ],
      "metadata": {
        "id": "TNlTqczu7ize"
      },
      "execution_count": null,
      "outputs": []
    },
    {
      "cell_type": "markdown",
      "source": [
        "# Análisando la cantidad de proyectos propuestos por a lo largo del periodo"
      ],
      "metadata": {
        "id": "zn43EZGz8kLt"
      }
    },
    {
      "cell_type": "code",
      "source": [
        "import matplotlib.pyplot as plt\n",
        "\n",
        "# Agrupamiento por mes\n",
        "df['mês']=df['Fecha de Presentación'].dt.to_period(\"M\")\n",
        "\n",
        "plt.figure(figsize=(15,5))\n",
        "# Contamos cuantos proyectos fueron presentados por mes.\n",
        "df.groupby('mês').count()['Proyecto de Ley'].sort_index().plot(kind='bar')"
      ],
      "metadata": {
        "id": "5ldZMFww765T"
      },
      "execution_count": null,
      "outputs": []
    },
    {
      "cell_type": "code",
      "source": [
        "import matplotlib.pyplot as plt\n",
        "plt.figure(figsize=(15,5))\n",
        "# Contamos cuantos proyectos fueron aprobados por mes\n",
        "df[df['Estado']=='APROBADO'].groupby('mês').count()['Proyecto de Ley'].sort_index().plot(kind='bar')"
      ],
      "metadata": {
        "id": "hexsU2T-8Tx0"
      },
      "execution_count": null,
      "outputs": []
    }
  ]
}